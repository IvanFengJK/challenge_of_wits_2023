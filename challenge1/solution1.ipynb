{
 "cells": [
  {
   "cell_type": "markdown",
   "metadata": {},
   "source": [
    "# CHALLENGE 1: Command, Control and Communications\n",
    "In DSTA, we built a C3 system to track drones and to ensure drones fly within the\n",
    "permitted height limit. We use GPS positioning to determine the height of drones in flight.\n",
    "As there are many things that can degrade the accuracy of GPS positioning (e.g. satellite\n",
    "signals being reflected off buildings), we need to add a buffer on top of the permitted\n",
    "height limit to ensure that drones flying over the height limit are correctly identified as\n",
    "errant drones.\n",
    "\n",
    "Given that the GPS height positioning accuracy is 13m at 95% confidence and the error\n",
    "mean is 0, using Confidence Interval Formula to solve this question, what buffer would\n",
    "you recommend to have a false positive rate of 0.15%?"
   ]
  },
  {
   "cell_type": "markdown",
   "metadata": {},
   "source": [
    "# Solution\n",
    "\n",
    "We know that the error has a mean of 0 and an accuracy of 13 at 95% confidence interval and assuming that there is only one data point. We can expressed this information as such.\n",
    "$ 13 = 0 + z \\cdot \\frac{\\sigma}{\\sqrt{1}}$\n",
    "\n",
    "By calculating the confidence interval for 95%, we get $(-1.95996, +1.95996)$. \n",
    "\n",
    "We can then find the standard deviation\n",
    "\n",
    "$ \\frac{13}{1.95996} = \\sigma$\n",
    "\n",
    "Now we want to find the how much buffer to put such that if such a number appear, it would be very unlikely. We will use one tail because we don't want it to exceed the height limit. We can start from the normalise value.\n",
    "\n",
    "$P(Z>z) = 0.0015$\n",
    "\n",
    "$P(Z<z) = 1-0.0015$\n",
    "\n",
    "$P(Z<2.9677) = 0.9985$\n",
    "\n",
    "$P(\\frac{X-\\bar{x}}{\\sigma}<2.9677) = 0.9985$\n",
    "\n",
    "$P\\left(\\frac{X-0}{\\left(\\frac{13}{1.95996}\\right)}<2.9677\\right) = 0.9985$\n",
    "\n",
    "$P\\left(X<2.9677 \\cdot \\frac{13}{1.95996} \\right) = 0.9985$\n",
    "\n",
    "$P\\left(X<19.684 \\right) = 0.9985$\n",
    "\n",
    "Therefore, if the buffer is 20m, the probability of a drone below the height limit while having exceed the buffer is 0.15%.\n"
   ]
  },
  {
   "cell_type": "code",
   "execution_count": 11,
   "metadata": {},
   "outputs": [
    {
     "data": {
      "text/plain": [
       "19.684337739755488"
      ]
     },
     "execution_count": 11,
     "metadata": {},
     "output_type": "execute_result"
    }
   ],
   "source": [
    "from scipy.stats import norm\n",
    "confidence_level = 0.95\n",
    "accuracy = 13\n",
    "false_positive_rate = 0.15/100\n",
    "ci = norm.interval(confidence_level, loc=0, scale=1)\n",
    "norm.ppf(1-false_positive_rate) * (accuracy/ci[1])"
   ]
  },
  {
   "cell_type": "code",
   "execution_count": null,
   "metadata": {},
   "outputs": [],
   "source": []
  }
 ],
 "metadata": {
  "kernelspec": {
   "display_name": "basic",
   "language": "python",
   "name": "basic"
  },
  "language_info": {
   "codemirror_mode": {
    "name": "ipython",
    "version": 3
   },
   "file_extension": ".py",
   "mimetype": "text/x-python",
   "name": "python",
   "nbconvert_exporter": "python",
   "pygments_lexer": "ipython3",
   "version": "3.8.15"
  }
 },
 "nbformat": 4,
 "nbformat_minor": 2
}
